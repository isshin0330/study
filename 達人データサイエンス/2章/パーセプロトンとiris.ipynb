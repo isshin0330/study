{
 "cells": [
  {
   "cell_type": "code",
   "execution_count": 35,
   "metadata": {},
   "outputs": [],
   "source": [
    "import numpy as np\n",
    "class Perceptron(object):\n",
    "    \n",
    "    def __init__(self, eta=0.01, n_iter=50, random_state=1):\n",
    "        self.eta = eta\n",
    "        self.n_iter = n_iter\n",
    "        self.random_state = random_state\n",
    "        \n",
    "    def fit(self, X, y):\n",
    "        rgen = np.random.RandomState(self.random_state)\n",
    "        self.w_ = rgen.normal(loc=0.0, scale=0.01, size=1+X.shape[1])\n",
    "        self.errors_ = []\n",
    "        \n",
    "        #まず適当に与えられた重みから総入力を計算し、０より大きいかをどうかで１かー１を出力する。\n",
    "        #その出力をもとに予測値を出し、一行目の各特徴量Xに対して重みを更新する\n",
    "        #その更新量をupdateとし、updateが０じゃなかったらerror1を＋１\n",
    "        #次の行にうつり、更新した重みから総入力を計算しｙを予測、再び重みを更新、updateが０じゃなかったら＋１\n",
    "        #これをサンプルの数（len(y)）繰り返す\n",
    "        #エラーの数をリストに追加し、今回得られた重みをもとに最初からやり直す\n",
    "        for _ in range(self.n_iter):\n",
    "            \"dw = eta*(y - pred.y)*xi\"\n",
    "            errors = 0\n",
    "            for xi,target in zip(X,y):\n",
    "                update = self.eta*(target - self.predict(xi))\n",
    "                self.w_[1:] += update*xi\n",
    "                self.w_[0] += update\n",
    "                errors += int(update!=0)\n",
    "            #1周目のエラーの数、2周目の数、３...とerrors_に挿入していく。どんどんエラーの数が少なくなっていくはず\n",
    "            self.errors_.append(errors)\n",
    "        \n",
    "        return self #この段階でselfは正しい重みを持っている\n",
    "    \n",
    "    def net_input(self,X):\n",
    "        return np.dot(X, self.w_[1:]) + self.w_[0]\n",
    "    \n",
    "    def predict(self,X):\n",
    "        return np.where(self.net_input(X)>=0.0, 1, -1)"
   ]
  },
  {
   "cell_type": "code",
   "execution_count": 36,
   "metadata": {},
   "outputs": [
    {
     "data": {
      "image/png": "[encoded data removed]",
      "text/plain": [
       "<Figure size 432x288 with 1 Axes>"
      ]
     },
     "metadata": {
      "needs_background": "light"
     },
     "output_type": "display_data"
    }
   ],
   "source": [
    "import pandas as pd\n",
    "df = pd.read_csv('https://archive.ics.uci.edu/ml/''machine-learning-databases/iris/iris.data',header=None)\n",
    "df\n",
    "\n",
    "import matplotlib.pyplot as plt\n",
    "import numpy as np\n",
    "y = df.iloc[0:100,4].values\n",
    "y = np.where(y==\"Iris-setosa\", -1, 1)\n",
    "X = df.iloc[0:100,[0,2]].values\n",
    "\n",
    "plt.scatter(X[:50,0],X[:50,1],color=\"red\",marker=\"o\",label=\"setosa\")\n",
    "plt.scatter(X[50:100,0],X[50:100,1],color=\"blue\", marker=\"x\",label=\"versicolor\")\n",
    "\n",
    "plt.xlabel(\"sapal length [cm]\")\n",
    "plt.ylabel(\"petal length [cm]\")\n",
    "plt.legend(loc=\"upper left\")\n",
    "plt.show()"
   ]
  },
  {
   "cell_type": "code",
   "execution_count": 37,
   "metadata": {},
   "outputs": [
    {
     "data": {
      "text/plain": [
       "0"
      ]
     },
     "execution_count": 37,
     "metadata": {},
     "output_type": "execute_result"
    }
   ],
   "source": [
    "a = 2\n",
    "b = 0\n",
    "b += int(a != 2)\n",
    "b"
   ]
  },
  {
   "cell_type": "code",
   "execution_count": 67,
   "metadata": {},
   "outputs": [
    {
     "data": {
      "image/png": "[encoded data removed]",
      "text/plain": [
       "<Figure size 432x288 with 1 Axes>"
      ]
     },
     "metadata": {
      "needs_background": "light"
     },
     "output_type": "display_data"
    }
   ],
   "source": [
    "ppn = Perceptron(eta=0.1, n_iter=10)\n",
    "ppn.fit(X,y)\n",
    "plt.plot(range(1,len(ppn.errors_)+1),ppn.errors_, marker=\"o\" )\n",
    "plt.xlabel(\"Epochs\")\n",
    "plt.ylabel(\"number of update\")\n",
    "plt.show()"
   ]
  },
  {
   "cell_type": "code",
   "execution_count": 68,
   "metadata": {},
   "outputs": [
    {
     "name": "stdout",
     "output_type": "stream",
     "text": [
      "[[ 1  2  3  4  5  6  7  8  9 10]\n",
      " [ 1  2  3  4  5  6  7  8  9 10]\n",
      " [ 1  2  3  4  5  6  7  8  9 10]\n",
      " [ 1  2  3  4  5  6  7  8  9 10]\n",
      " [ 1  2  3  4  5  6  7  8  9 10]\n",
      " [ 1  2  3  4  5  6  7  8  9 10]\n",
      " [ 1  2  3  4  5  6  7  8  9 10]\n",
      " [ 1  2  3  4  5  6  7  8  9 10]\n",
      " [ 1  2  3  4  5  6  7  8  9 10]\n",
      " [ 1  2  3  4  5  6  7  8  9 10]]\n",
      "\n",
      "[ 1  2  3  4  5  6  7  8  9 10  1  2  3  4  5  6  7  8  9 10  1  2  3  4\n",
      "  5  6  7  8  9 10  1  2  3  4  5  6  7  8  9 10  1  2  3  4  5  6  7  8\n",
      "  9 10  1  2  3  4  5  6  7  8  9 10  1  2  3  4  5  6  7  8  9 10  1  2\n",
      "  3  4  5  6  7  8  9 10  1  2  3  4  5  6  7  8  9 10  1  2  3  4  5  6\n",
      "  7  8  9 10]\n",
      "\n",
      "[11 11 11 11 11 11 11 11 11 11 12 12 12 12 12 12 12 12 12 12 13 13 13 13\n",
      " 13 13 13 13 13 13 14 14 14 14 14 14 14 14 14 14 15 15 15 15 15 15 15 15\n",
      " 15 15 16 16 16 16 16 16 16 16 16 16 17 17 17 17 17 17 17 17 17 17 18 18\n",
      " 18 18 18 18 18 18 18 18 19 19 19 19 19 19 19 19 19 19 20 20 20 20 20 20\n",
      " 20 20 20 20]\n",
      "\n",
      "[[ 1  2  3  4  5  6  7  8  9 10  1  2  3  4  5  6  7  8  9 10  1  2  3  4\n",
      "   5  6  7  8  9 10  1  2  3  4  5  6  7  8  9 10  1  2  3  4  5  6  7  8\n",
      "   9 10  1  2  3  4  5  6  7  8  9 10  1  2  3  4  5  6  7  8  9 10  1  2\n",
      "   3  4  5  6  7  8  9 10  1  2  3  4  5  6  7  8  9 10  1  2  3  4  5  6\n",
      "   7  8  9 10]\n",
      " [11 11 11 11 11 11 11 11 11 11 12 12 12 12 12 12 12 12 12 12 13 13 13 13\n",
      "  13 13 13 13 13 13 14 14 14 14 14 14 14 14 14 14 15 15 15 15 15 15 15 15\n",
      "  15 15 16 16 16 16 16 16 16 16 16 16 17 17 17 17 17 17 17 17 17 17 18 18\n",
      "  18 18 18 18 18 18 18 18 19 19 19 19 19 19 19 19 19 19 20 20 20 20 20 20\n",
      "  20 20 20 20]]\n",
      "\n",
      "[[ 1 11]\n",
      " [ 2 11]\n",
      " [ 3 11]\n",
      " [ 4 11]\n",
      " [ 5 11]\n",
      " [ 6 11]\n",
      " [ 7 11]\n",
      " [ 8 11]\n",
      " [ 9 11]\n",
      " [10 11]\n",
      " [ 1 12]\n",
      " [ 2 12]\n",
      " [ 3 12]\n",
      " [ 4 12]\n",
      " [ 5 12]\n",
      " [ 6 12]\n",
      " [ 7 12]\n",
      " [ 8 12]\n",
      " [ 9 12]\n",
      " [10 12]\n",
      " [ 1 13]\n",
      " [ 2 13]\n",
      " [ 3 13]\n",
      " [ 4 13]\n",
      " [ 5 13]\n",
      " [ 6 13]\n",
      " [ 7 13]\n",
      " [ 8 13]\n",
      " [ 9 13]\n",
      " [10 13]\n",
      " [ 1 14]\n",
      " [ 2 14]\n",
      " [ 3 14]\n",
      " [ 4 14]\n",
      " [ 5 14]\n",
      " [ 6 14]\n",
      " [ 7 14]\n",
      " [ 8 14]\n",
      " [ 9 14]\n",
      " [10 14]\n",
      " [ 1 15]\n",
      " [ 2 15]\n",
      " [ 3 15]\n",
      " [ 4 15]\n",
      " [ 5 15]\n",
      " [ 6 15]\n",
      " [ 7 15]\n",
      " [ 8 15]\n",
      " [ 9 15]\n",
      " [10 15]\n",
      " [ 1 16]\n",
      " [ 2 16]\n",
      " [ 3 16]\n",
      " [ 4 16]\n",
      " [ 5 16]\n",
      " [ 6 16]\n",
      " [ 7 16]\n",
      " [ 8 16]\n",
      " [ 9 16]\n",
      " [10 16]\n",
      " [ 1 17]\n",
      " [ 2 17]\n",
      " [ 3 17]\n",
      " [ 4 17]\n",
      " [ 5 17]\n",
      " [ 6 17]\n",
      " [ 7 17]\n",
      " [ 8 17]\n",
      " [ 9 17]\n",
      " [10 17]\n",
      " [ 1 18]\n",
      " [ 2 18]\n",
      " [ 3 18]\n",
      " [ 4 18]\n",
      " [ 5 18]\n",
      " [ 6 18]\n",
      " [ 7 18]\n",
      " [ 8 18]\n",
      " [ 9 18]\n",
      " [10 18]\n",
      " [ 1 19]\n",
      " [ 2 19]\n",
      " [ 3 19]\n",
      " [ 4 19]\n",
      " [ 5 19]\n",
      " [ 6 19]\n",
      " [ 7 19]\n",
      " [ 8 19]\n",
      " [ 9 19]\n",
      " [10 19]\n",
      " [ 1 20]\n",
      " [ 2 20]\n",
      " [ 3 20]\n",
      " [ 4 20]\n",
      " [ 5 20]\n",
      " [ 6 20]\n",
      " [ 7 20]\n",
      " [ 8 20]\n",
      " [ 9 20]\n",
      " [10 20]]\n",
      "\n",
      "[ 1  2  3  4  5  6  7  8  9 10]\n",
      "\n",
      "[11 12 13 14 15 16 17 18 19 20]\n",
      "\n",
      "[[ 1  2  3  4  5  6  7  8  9 10]\n",
      " [11 12 13 14 15 16 17 18 19 20]]\n",
      "\n",
      "[[ 1 11]\n",
      " [ 2 12]\n",
      " [ 3 13]\n",
      " [ 4 14]\n",
      " [ 5 15]\n",
      " [ 6 16]\n",
      " [ 7 17]\n",
      " [ 8 18]\n",
      " [ 9 19]\n",
      " [10 20]]\n",
      "\n",
      "[1 2 3 4 5]\n",
      "[[0 1 2 3 4]\n",
      " [4 3 2 1 0]]\n"
     ]
    }
   ],
   "source": [
    "a = np.arange(1,11)\n",
    "b = np.arange(11,21)\n",
    "c = np.array([a.ravel(),b.ravel()])\n",
    "d = np.array([a,b]).T\n",
    "\n",
    "aa, bb = np.meshgrid(a,b)\n",
    "print(aa)\n",
    "print()\n",
    "print(aa.ravel())\n",
    "print()\n",
    "print(bb.ravel())\n",
    "print()\n",
    "q = np.array([aa.ravel(), bb.ravel()])\n",
    "print(q)\n",
    "print()\n",
    "q = np.array([aa.ravel(), bb.ravel()]).T\n",
    "print(q)\n",
    "print()\n",
    "print(a)\n",
    "print()\n",
    "print(b)\n",
    "print()\n",
    "print(c)\n",
    "print()\n",
    "print(d)\n",
    "print()\n",
    "w = np.array([1,2,3,4,5])\n",
    "print(w)\n",
    "print(np.array([[0,1,2,3,4],[4,3,2,1,0]]))"
   ]
  },
  {
   "cell_type": "code",
   "execution_count": 69,
   "metadata": {},
   "outputs": [],
   "source": [
    "from matplotlib.colors import ListedColormap\n",
    "\n",
    "def plot_decision_regions(X, y, classifier, resolution=0.02):\n",
    "    markers = (\"s\", \"x\", \"o\", \"^\", \"v\")\n",
    "    colors = (\"red\", \"blue\", \"lightgreen\", \"gray\", \"cyan\")\n",
    "    cmap = ListedColormap(colors[:len(np.unique(y))])\n",
    "    \n",
    "    x1_min, x1_max = X[:, 0].min() - 1, X[:, 0].max() + 1\n",
    "    x2_min, x2_max = X[:, 1].min() - 1, X[:, 1].max() + 1\n",
    "    \n",
    "    xx1, xx2 = np.meshgrid(np.arange(x1_min, x1_max, resolution),\n",
    "                           np.arange(x2_min, x2_max, resolution))\n",
    "    \n",
    "    data_xx =  np.array([xx1.ravel(), xx2.ravel()]).T\n",
    "    Z = classifier.predict(data_xx)\n",
    "    Z = Z.reshape(xx1.shape)\n",
    "    plt.contourf(xx1, xx2, Z, alpha=0.3, cmap=cmap)\n",
    "    \n",
    "    plt.xlim(xx1.min(), xx1.max())\n",
    "    plt.ylim(xx2.min(), xx2.max())\n",
    "    \n",
    "    for idx, cl in enumerate(np.unique(y)):\n",
    "        plt.scatter(X[y==cl,0], X[y==cl,1], \n",
    "                   alpha=0.8,\n",
    "                   c=colors[idx],\n",
    "                   marker=markers[idx],\n",
    "                   label=cl,\n",
    "                   edgecolor=\"black\")"
   ]
  },
  {
   "cell_type": "code",
   "execution_count": 70,
   "metadata": {},
   "outputs": [
    {
     "data": {
      "image/png": "[encoded data removed]",
      "text/plain": [
       "<Figure size 432x288 with 1 Axes>"
      ]
     },
     "metadata": {
      "needs_background": "light"
     },
     "output_type": "display_data"
    }
   ],
   "source": [
    "plot_decision_regions(X,y,classifier=ppn)\n",
    "plt.xlabel(\"sapal length[cm]\")\n",
    "plt.ylabel(\"petak length[cm]\")\n",
    "plt.legend(loc=\"upper left\")\n",
    "plt.show()"
   ]
  },
  {
   "cell_type": "code",
   "execution_count": 11,
   "metadata": {},
   "outputs": [
    {
     "name": "stdout",
     "output_type": "stream",
     "text": [
      "[[ 1 11]\n",
      " [ 2 12]\n",
      " [ 3 13]\n",
      " [ 4 14]\n",
      " [ 5 15]\n",
      " [ 6 16]\n",
      " [ 7 17]\n",
      " [ 8 18]\n",
      " [ 9 19]\n",
      " [10 20]]\n",
      "[ 1  2  3  4  5  6  7  8  9 10]\n"
     ]
    }
   ],
   "source": [
    "print(d)\n",
    "dd = d[:,0]\n",
    "print(dd)"
   ]
  },
  {
   "cell_type": "code",
   "execution_count": 28,
   "metadata": {},
   "outputs": [
    {
     "name": "stdout",
     "output_type": "stream",
     "text": [
      "[1 1 1 1 1 1 1 1 1 1 0 0 0 0]\n",
      "[1 1 1 1 1 1 1 1 1 1]\n"
     ]
    }
   ],
   "source": [
    "s = [1,1,1,1,1,1,1,1,1,1,0,0,0,0]\n",
    "p = [2,2,2,2,2,2,2,2,2,2,3,3,3,3]\n",
    "s = np.array(s)\n",
    "p = np.array(p)\n",
    "print(s)\n",
    "ss = s[p==2]\n",
    "print(ss)\n"
   ]
  },
  {
   "cell_type": "code",
   "execution_count": 7,
   "metadata": {},
   "outputs": [
    {
     "data": {
      "text/plain": [
       "0"
      ]
     },
     "execution_count": 7,
     "metadata": {},
     "output_type": "execute_result"
    }
   ],
   "source": [
    "q = 1\n",
    "int(q!=1)"
   ]
  },
  {
   "cell_type": "code",
   "execution_count": null,
   "metadata": {},
   "outputs": [],
   "source": []
  }
 ],
 "metadata": {
  "kernelspec": {
   "display_name": "Python 3",
   "language": "python",
   "name": "python3"
  },
  "language_info": {
   "codemirror_mode": {
    "name": "ipython",
    "version": 3
   },
   "file_extension": ".py",
   "mimetype": "text/x-python",
   "name": "python",
   "nbconvert_exporter": "python",
   "pygments_lexer": "ipython3",
   "version": "3.6.5"
  }
 },
 "nbformat": 4,
 "nbformat_minor": 4
}
